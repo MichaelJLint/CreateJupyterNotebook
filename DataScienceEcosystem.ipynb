{
  "metadata": {
    "kernelspec": {
      "name": "python",
      "display_name": "Python (Pyodide)",
      "language": "python"
    },
    "language_info": {
      "codemirror_mode": {
        "name": "python",
        "version": 3
      },
      "file_extension": ".py",
      "mimetype": "text/x-python",
      "name": "python",
      "nbconvert_exporter": "python",
      "pygments_lexer": "ipython3",
      "version": "3.8"
    }
  },
  "nbformat_minor": 5,
  "nbformat": 4,
  "cells": [
    {
      "id": "b0e095ea-9965-4cf5-ad12-14eafc208852",
      "cell_type": "markdown",
      "source": "# Data Science Tools and Ecosystem",
      "metadata": {}
    },
    {
      "id": "20623837-1e0c-49c4-aa22-e09e68502ae1",
      "cell_type": "markdown",
      "source": "In this notebook, Data Science Tools and Ecosystem are summarized.",
      "metadata": {}
    },
    {
      "id": "2f182914-a725-45bf-a930-5e940e4c33ae",
      "cell_type": "markdown",
      "source": "**Objectives:**\n- List popular languages for Data Science\n- List poular libraries for Data Science\n- List some poular Data Science Tools\n- Show some examples of arithmatic",
      "metadata": {}
    },
    {
      "id": "e53f658c-57f5-4825-9260-8860dc6a16b1",
      "cell_type": "markdown",
      "source": "Some of the popular languages Data Scientists use are:\n1. Python\n2. R\n3. SQL",
      "metadata": {}
    },
    {
      "id": "4d67cdf7-1b35-4f24-add0-0ac90bedcdf4",
      "cell_type": "markdown",
      "source": "Some of the commonly used libraries used by Data Scientist inclue:\n1. Pandas\n2. Numpy\n3. SciPy\n4. Matplotlib",
      "metadata": {}
    },
    {
      "id": "9ac365d8-c004-447c-a460-6d098b1a526c",
      "cell_type": "markdown",
      "source": "|Data Science Tools|\n|---|\n|R Studio|\n|VS Code|\n|Google Collabs|",
      "metadata": {}
    },
    {
      "id": "a488958c-9a96-4afd-9806-f14f2725c380",
      "cell_type": "markdown",
      "source": "### Below are a few examples of evaluating expressions in Python. ###\n",
      "metadata": {}
    },
    {
      "id": "5a36515f-7f50-40cd-96fd-ff9e1c591485",
      "cell_type": "code",
      "source": "# This a simple arithmetic expression to mutiply then add integers\n(3*4)+5\n",
      "metadata": {
        "trusted": true
      },
      "outputs": [
        {
          "execution_count": 1,
          "output_type": "execute_result",
          "data": {
            "text/plain": "17"
          },
          "metadata": {}
        }
      ],
      "execution_count": 1
    },
    {
      "id": "19d569d8-ea60-4408-ad50-450d13f8126e",
      "cell_type": "code",
      "source": "# This will convert 200 minutes to hours by diving by 60\n\n200/60",
      "metadata": {
        "trusted": true
      },
      "outputs": [
        {
          "execution_count": 5,
          "output_type": "execute_result",
          "data": {
            "text/plain": "3.3333333333333335"
          },
          "metadata": {}
        }
      ],
      "execution_count": 5
    },
    {
      "id": "a3791aa6-f157-496d-bdd5-16f23060f0a9",
      "cell_type": "markdown",
      "source": "## Author ##\nMichael J. Lint",
      "metadata": {}
    },
    {
      "id": "50b4ed2d-ed02-4002-bf64-4eb266f5ab2d",
      "cell_type": "code",
      "source": "",
      "metadata": {
        "trusted": true
      },
      "outputs": [],
      "execution_count": null
    }
  ]
}